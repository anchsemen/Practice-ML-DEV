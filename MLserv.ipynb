{
  "nbformat": 4,
  "nbformat_minor": 0,
  "metadata": {
    "colab": {
      "provenance": [],
      "gpuType": "T4"
    },
    "kernelspec": {
      "name": "python3",
      "display_name": "Python 3"
    },
    "language_info": {
      "name": "python"
    },
    "accelerator": "GPU"
  },
  "cells": [
    {
      "cell_type": "markdown",
      "source": [
        "# Import"
      ],
      "metadata": {
        "id": "W4T6yvx8KUKL"
      }
    },
    {
      "cell_type": "code",
      "execution_count": 14,
      "metadata": {
        "id": "ApUPvBZA6B8O",
        "colab": {
          "base_uri": "https://localhost:8080/"
        },
        "outputId": "999e19de-3dcf-4c99-fca9-e9aaebc56459"
      },
      "outputs": [
        {
          "output_type": "stream",
          "name": "stdout",
          "text": [
            "Requirement already satisfied: catboost in /usr/local/lib/python3.10/dist-packages (1.2.2)\n",
            "Requirement already satisfied: graphviz in /usr/local/lib/python3.10/dist-packages (from catboost) (0.20.1)\n",
            "Requirement already satisfied: matplotlib in /usr/local/lib/python3.10/dist-packages (from catboost) (3.7.1)\n",
            "Requirement already satisfied: numpy>=1.16.0 in /usr/local/lib/python3.10/dist-packages (from catboost) (1.23.5)\n",
            "Requirement already satisfied: pandas>=0.24 in /usr/local/lib/python3.10/dist-packages (from catboost) (1.5.3)\n",
            "Requirement already satisfied: scipy in /usr/local/lib/python3.10/dist-packages (from catboost) (1.11.4)\n",
            "Requirement already satisfied: plotly in /usr/local/lib/python3.10/dist-packages (from catboost) (5.15.0)\n",
            "Requirement already satisfied: six in /usr/local/lib/python3.10/dist-packages (from catboost) (1.16.0)\n",
            "Requirement already satisfied: python-dateutil>=2.8.1 in /usr/local/lib/python3.10/dist-packages (from pandas>=0.24->catboost) (2.8.2)\n",
            "Requirement already satisfied: pytz>=2020.1 in /usr/local/lib/python3.10/dist-packages (from pandas>=0.24->catboost) (2023.3.post1)\n",
            "Requirement already satisfied: contourpy>=1.0.1 in /usr/local/lib/python3.10/dist-packages (from matplotlib->catboost) (1.2.0)\n",
            "Requirement already satisfied: cycler>=0.10 in /usr/local/lib/python3.10/dist-packages (from matplotlib->catboost) (0.12.1)\n",
            "Requirement already satisfied: fonttools>=4.22.0 in /usr/local/lib/python3.10/dist-packages (from matplotlib->catboost) (4.45.1)\n",
            "Requirement already satisfied: kiwisolver>=1.0.1 in /usr/local/lib/python3.10/dist-packages (from matplotlib->catboost) (1.4.5)\n",
            "Requirement already satisfied: packaging>=20.0 in /usr/local/lib/python3.10/dist-packages (from matplotlib->catboost) (23.2)\n",
            "Requirement already satisfied: pillow>=6.2.0 in /usr/local/lib/python3.10/dist-packages (from matplotlib->catboost) (9.4.0)\n",
            "Requirement already satisfied: pyparsing>=2.3.1 in /usr/local/lib/python3.10/dist-packages (from matplotlib->catboost) (3.1.1)\n",
            "Requirement already satisfied: tenacity>=6.2.0 in /usr/local/lib/python3.10/dist-packages (from plotly->catboost) (8.2.3)\n",
            "Requirement already satisfied: joblib in /usr/local/lib/python3.10/dist-packages (1.3.2)\n"
          ]
        }
      ],
      "source": [
        "!pip install catboost\n",
        "!pip install joblib"
      ]
    },
    {
      "cell_type": "code",
      "source": [
        "import pandas as pd\n",
        "from sklearn.model_selection import train_test_split, GridSearchCV\n",
        "from catboost import CatBoostClassifier, Pool, cv\n",
        "from sklearn.metrics import accuracy_score, classification_report\n",
        "from sklearn.feature_extraction.text import TfidfVectorizer\n",
        "from sklearn.linear_model import LogisticRegression\n",
        "from sklearn.tree import DecisionTreeClassifier\n",
        "import numpy as np\n",
        "import joblib"
      ],
      "metadata": {
        "id": "nXDygAGJ667h"
      },
      "execution_count": 17,
      "outputs": []
    },
    {
      "cell_type": "markdown",
      "source": [
        "# Data Preprocessing"
      ],
      "metadata": {
        "id": "nphAGinAKXVa"
      }
    },
    {
      "cell_type": "code",
      "source": [
        "data = pd.read_csv('pricerunner_aggregate.csv')\n",
        "data.columns = ['Product ID', 'Product Title', 'Merchant ID', 'Cluster ID', 'Cluster Label', 'Category ID', 'Category Label']\n",
        "\n",
        "data['Product Title'] = data['Product Title'].str.lower()"
      ],
      "metadata": {
        "id": "SDCkfNlJ6F8H"
      },
      "execution_count": 4,
      "outputs": []
    },
    {
      "cell_type": "code",
      "source": [
        "unique_category_ids = data['Category ID'].unique()\n",
        "\n",
        "for i in range(len(unique_category_ids)):\n",
        "  data['Category ID'] = data['Category ID'].replace({unique_category_ids[i]: i+1})"
      ],
      "metadata": {
        "id": "GE5uWcNG_sz9"
      },
      "execution_count": 5,
      "outputs": []
    },
    {
      "cell_type": "code",
      "source": [
        "train_data, test_data = train_test_split(data, test_size=0.2, random_state=42)\n",
        "\n",
        "X_train = train_data['Product Title']\n",
        "y_train = train_data['Category Label']\n",
        "X_test, y_test= test_data['Product Title'], test_data['Category Label']"
      ],
      "metadata": {
        "id": "gmLNChc1kYeq"
      },
      "execution_count": 6,
      "outputs": []
    },
    {
      "cell_type": "code",
      "source": [
        "vectorizer = TfidfVectorizer()\n",
        "\n",
        "X_train_vectorized = vectorizer.fit_transform(X_train)\n",
        "X_test_vectorized = vectorizer.transform(X_test)\n",
        "X_train_vectorized = pd.DataFrame(X_train_vectorized.toarray(), columns=vectorizer.get_feature_names_out())\n",
        "X_test_vectorized = pd.DataFrame(X_test_vectorized.toarray(), columns=vectorizer.get_feature_names_out())"
      ],
      "metadata": {
        "id": "FueJoUvBkdNQ"
      },
      "execution_count": 7,
      "outputs": []
    },
    {
      "cell_type": "markdown",
      "source": [
        "# Train"
      ],
      "metadata": {
        "id": "1JpoIqBaKjJH"
      }
    },
    {
      "cell_type": "code",
      "source": [
        "model_catboost = CatBoostClassifier(iterations=500, loss_function='MultiClass', task_type='GPU', random_seed=42)\n",
        "model_catboost.fit(X_train_vectorized, y_train)"
      ],
      "metadata": {
        "id": "d_ZfRPz5kfeL"
      },
      "execution_count": null,
      "outputs": []
    },
    {
      "cell_type": "code",
      "source": [
        "y_pred = model_catboost.predict(X_test_vectorized)\n",
        "\n",
        "accuracy = accuracy_score(y_test, y_pred)\n",
        "print(f'Accuracy: {accuracy}')\n",
        "\n",
        "print(classification_report(y_test, y_pred))"
      ],
      "metadata": {
        "colab": {
          "base_uri": "https://localhost:8080/"
        },
        "id": "Xa7Ihau1khcI",
        "outputId": "ee05c859-a10a-4290-b9c6-86747af5b1a3"
      },
      "execution_count": 9,
      "outputs": [
        {
          "output_type": "stream",
          "name": "stdout",
          "text": [
            "Accuracy: 0.9270848081551748\n",
            "                  precision    recall  f1-score   support\n",
            "\n",
            "            CPUs       1.00      0.99      0.99       771\n",
            " Digital Cameras       1.00      0.97      0.98       542\n",
            "     Dishwashers       0.89      0.93      0.91       662\n",
            "        Freezers       0.98      0.90      0.93       439\n",
            " Fridge Freezers       0.94      0.89      0.91      1115\n",
            "         Fridges       0.87      0.88      0.87       728\n",
            "      Microwaves       1.00      0.89      0.94       469\n",
            "   Mobile Phones       0.76      1.00      0.86       818\n",
            "             TVs       1.00      0.93      0.96       723\n",
            "Washing Machines       0.99      0.90      0.94       796\n",
            "\n",
            "        accuracy                           0.93      7063\n",
            "       macro avg       0.94      0.93      0.93      7063\n",
            "    weighted avg       0.94      0.93      0.93      7063\n",
            "\n"
          ]
        }
      ]
    },
    {
      "cell_type": "code",
      "source": [
        "model_tree = DecisionTreeClassifier(random_state=42)\n",
        "model_tree.fit(X_train_vectorized, y_train)\n",
        "\n",
        "y_pred = model_tree.predict(X_test_vectorized)\n",
        "\n",
        "accuracy = accuracy_score(y_test, y_pred)\n",
        "print(f'Accuracy: {accuracy}')\n",
        "\n",
        "print(classification_report(y_test, y_pred))"
      ],
      "metadata": {
        "id": "vdeKnB5vFIkF"
      },
      "execution_count": null,
      "outputs": []
    },
    {
      "cell_type": "code",
      "source": [
        "model_log = LogisticRegression(max_iter=1000, random_state=42)\n",
        "model_log.fit(X_train_vectorized, y_train)\n",
        "\n",
        "y_pred = model_log.predict(X_test_vectorized)\n",
        "\n",
        "accuracy = accuracy_score(y_test, y_pred)\n",
        "print(f'Accuracy: {accuracy}')\n",
        "\n",
        "print(classification_report(y_test, y_pred))"
      ],
      "metadata": {
        "colab": {
          "base_uri": "https://localhost:8080/"
        },
        "id": "_IpMcFPAFAqM",
        "outputId": "9015c607-525d-423b-d494-4ebb4f937414"
      },
      "execution_count": 11,
      "outputs": [
        {
          "output_type": "stream",
          "name": "stdout",
          "text": [
            "Accuracy: 0.9545518901316721\n",
            "                  precision    recall  f1-score   support\n",
            "\n",
            "            CPUs       1.00      0.99      1.00       771\n",
            " Digital Cameras       0.99      0.99      0.99       542\n",
            "     Dishwashers       0.89      0.95      0.92       662\n",
            "        Freezers       0.98      0.91      0.94       439\n",
            " Fridge Freezers       0.96      0.92      0.94      1115\n",
            "         Fridges       0.88      0.92      0.90       728\n",
            "      Microwaves       1.00      0.94      0.97       469\n",
            "   Mobile Phones       0.96      1.00      0.98       818\n",
            "             TVs       0.97      0.98      0.98       723\n",
            "Washing Machines       0.95      0.94      0.94       796\n",
            "\n",
            "        accuracy                           0.95      7063\n",
            "       macro avg       0.96      0.95      0.96      7063\n",
            "    weighted avg       0.96      0.95      0.95      7063\n",
            "\n"
          ]
        }
      ]
    },
    {
      "cell_type": "markdown",
      "source": [
        "# Predict new_query"
      ],
      "metadata": {
        "id": "EK0GDUXoKm5A"
      }
    },
    {
      "cell_type": "code",
      "source": [
        "# new_query = \"New phone, cool camera, lots of memory, keeps charging for a long time\"\n",
        "new_query = \"a new camera model that has a removable lens\"\n",
        "new_query = vectorizer.transform([new_query])"
      ],
      "metadata": {
        "id": "rBfkrOUEItvz"
      },
      "execution_count": 12,
      "outputs": []
    },
    {
      "cell_type": "code",
      "source": [
        "predicted_category_catboost = model_catboost.predict(new_query)\n",
        "predicted_category_tree = model_tree.predict(new_query)\n",
        "predicted_category_logreg = model_log.predict(new_query)\n",
        "\n",
        "print(\"Predicted Category catboost:\", predicted_category_catboost)\n",
        "print(\"Predicted Category tree:\", predicted_category_tree)\n",
        "print(\"Predicted Category logreg:\", predicted_category_logreg)"
      ],
      "metadata": {
        "colab": {
          "base_uri": "https://localhost:8080/"
        },
        "id": "VQd6Km8aI4It",
        "outputId": "70fa9f64-0504-45ee-d9b9-16c27dc8b8a6"
      },
      "execution_count": 13,
      "outputs": [
        {
          "output_type": "stream",
          "name": "stdout",
          "text": [
            "Predicted Category catboost: [['Digital Cameras']]\n",
            "Predicted Category tree: ['Digital Cameras']\n",
            "Predicted Category logreg: ['Digital Cameras']\n"
          ]
        },
        {
          "output_type": "stream",
          "name": "stderr",
          "text": [
            "/usr/local/lib/python3.10/dist-packages/sklearn/base.py:439: UserWarning: X does not have valid feature names, but DecisionTreeClassifier was fitted with feature names\n",
            "  warnings.warn(\n",
            "/usr/local/lib/python3.10/dist-packages/sklearn/base.py:439: UserWarning: X does not have valid feature names, but LogisticRegression was fitted with feature names\n",
            "  warnings.warn(\n"
          ]
        }
      ]
    },
    {
      "cell_type": "markdown",
      "source": [
        "# Save models"
      ],
      "metadata": {
        "id": "5BGj0g2aKO8q"
      }
    },
    {
      "cell_type": "code",
      "source": [
        "joblib.dump(model_catboost, 'catboost_model.pkl')\n",
        "joblib.dump(model_tree, 'model_tree.pkl')\n",
        "joblib.dump(model_log, 'model_log.pkl')"
      ],
      "metadata": {
        "colab": {
          "base_uri": "https://localhost:8080/"
        },
        "id": "wxCxS9I-KQdr",
        "outputId": "deb3654b-0d75-4478-9103-16318d32218a"
      },
      "execution_count": 18,
      "outputs": [
        {
          "output_type": "execute_result",
          "data": {
            "text/plain": [
              "['model_log.pkl']"
            ]
          },
          "metadata": {},
          "execution_count": 18
        }
      ]
    },
    {
      "cell_type": "markdown",
      "source": [
        "#EDA"
      ],
      "metadata": {
        "id": "dKT73z57lRYg"
      }
    },
    {
      "cell_type": "code",
      "source": [
        "print(data.info())"
      ],
      "metadata": {
        "colab": {
          "base_uri": "https://localhost:8080/"
        },
        "id": "zHSBhASiBJpb",
        "outputId": "e189e5b2-89e3-45fb-b25b-86d8443e95bd"
      },
      "execution_count": null,
      "outputs": [
        {
          "output_type": "stream",
          "name": "stdout",
          "text": [
            "<class 'pandas.core.frame.DataFrame'>\n",
            "RangeIndex: 35311 entries, 0 to 35310\n",
            "Data columns (total 7 columns):\n",
            " #   Column          Non-Null Count  Dtype \n",
            "---  ------          --------------  ----- \n",
            " 0   Product ID      35311 non-null  int64 \n",
            " 1   Product Title   35311 non-null  object\n",
            " 2   Merchant ID     35311 non-null  int64 \n",
            " 3   Cluster ID      35311 non-null  int64 \n",
            " 4   Cluster Label   35311 non-null  object\n",
            " 5   Category ID     35311 non-null  int64 \n",
            " 6   Category Label  35311 non-null  object\n",
            "dtypes: int64(4), object(3)\n",
            "memory usage: 1.9+ MB\n",
            "None\n"
          ]
        }
      ]
    },
    {
      "cell_type": "code",
      "source": [
        "# Распределение целевой переменной\n",
        "plt.figure(figsize=(12, 6))\n",
        "sns.countplot(x='Category Label', data=data)\n",
        "plt.xticks(rotation=45, ha='right')\n",
        "plt.title('Распределение товаров в датасете')\n",
        "plt.show()"
      ],
      "metadata": {
        "id": "A9KiugZGBb4C",
        "colab": {
          "base_uri": "https://localhost:8080/",
          "height": 671
        },
        "outputId": "8961b241-407b-4b74-e5f8-cbf0ff7323ca"
      },
      "execution_count": null,
      "outputs": [
        {
          "output_type": "display_data",
          "data": {
            "text/plain": [
              "<Figure size 1200x600 with 1 Axes>"
            ],
            "image/png": "[encoded data removed]"
          },
          "metadata": {}
        }
      ]
    }
  ]
}